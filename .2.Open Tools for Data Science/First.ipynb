{
    "cells": [
        {
            "cell_type": "markdown",
            "metadata": {},
            "source": "# My Jupyter Notebook on IBM Data Science Experience"
        },
        {
            "cell_type": "markdown",
            "metadata": {},
            "source": "**Tanzim Mahfuz**  \nStudent"
        },
        {
            "cell_type": "markdown",
            "metadata": {},
            "source": "_i am interested in Data science because i am very curious about retrieving information from data_"
        },
        {
            "cell_type": "markdown",
            "metadata": {},
            "source": "### Calculation"
        },
        {
            "cell_type": "code",
            "execution_count": 4,
            "metadata": {},
            "outputs": [
                {
                    "data": {
                        "text/plain": "8"
                    },
                    "execution_count": 4,
                    "metadata": {},
                    "output_type": "execute_result"
                }
            ],
            "source": "1+7"
        },
        {
            "cell_type": "markdown",
            "metadata": {},
            "source": "**List**  \n- B1\n- B2\n- B3\n\n\n1. Tanzim\n2. Mahfuz\n3. Bipu\n\n[LinkedIn](https://www.linkedin.com)\n\n\n~~The world is flat.~~\n"
        }
    ],
    "metadata": {
        "kernelspec": {
            "display_name": "Python 3.6 with Spark",
            "language": "python3",
            "name": "python36"
        },
        "language_info": {
            "codemirror_mode": {
                "name": "ipython",
                "version": 3
            },
            "file_extension": ".py",
            "mimetype": "text/x-python",
            "name": "python",
            "nbconvert_exporter": "python",
            "pygments_lexer": "ipython3",
            "version": "3.6.8"
        }
    },
    "nbformat": 4,
    "nbformat_minor": 1
}